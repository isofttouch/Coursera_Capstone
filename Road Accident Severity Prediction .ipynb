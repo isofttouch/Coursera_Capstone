{
 "cells": [
  {
   "cell_type": "markdown",
   "metadata": {},
   "source": [
    "# Capstone: Road Accident Severity Predition \n",
    "\n",
    "\n",
    "## Introduction/Business Problem\n",
    "    \n",
    "### **Description of the problem:**\n",
    "Most urban cities are plague with traffic issue as a result of road accidents across major highways and busy roads.\n",
    "Road accidents sometimes results into fatalities,injuries or just property damage.\n",
    "\n",
    "External factors like weather, road and visibility conditions sometimes reveal clues about severity of such accidents.In an effort to reduce the frequency of road accident due to afore mentioned conditions in our community, it is necessary to develop early-warning system for both road-users and traffic control by creating a machine learning model from available road data.\n",
    "        \n",
    "### **Description of the data to be used:**\n",
    "From available data set provided by Cousera, _'Data-Collision.csv' from GISWEB_ , I will be using attributes like *'WEATHER'* , *'ROADCON'* and *'LIGHTCON'* to determine severity of road accidents. Hence, my target variable will be *'SEVERITYCODE'*\n",
    "These data will be used to train a model and test accuracy of each of the result to determine best suitability to predict future warnings.\n",
    "\n",
    "**LIGHTCON**: The light conditions during the collision (visibility)\n",
    "\n",
    "**ROADCON**:  The condition of the road during the collision\n",
    "\n",
    "**SEVERITYCODE**: The code that corresponds to the severity of the collision:\n",
    "- 3—fatality\n",
    "- 2b—serious injury\n",
    "- 2—injury\n",
    "- 1—prop damage\n",
    "- 0—unknown\n",
    "\n",
    "**WEATHER**: A description of the weather conditions during the time of the collision."
   ]
  },
  {
   "cell_type": "code",
   "execution_count": null,
   "metadata": {},
   "outputs": [],
   "source": []
  }
 ],
 "metadata": {
  "kernelspec": {
   "display_name": "Python 3",
   "language": "python",
   "name": "python3"
  },
  "language_info": {
   "codemirror_mode": {
    "name": "ipython",
    "version": 3
   },
   "file_extension": ".py",
   "mimetype": "text/x-python",
   "name": "python",
   "nbconvert_exporter": "python",
   "pygments_lexer": "ipython3",
   "version": "3.8.3"
  }
 },
 "nbformat": 4,
 "nbformat_minor": 4
}
